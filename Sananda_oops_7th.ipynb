{
  "nbformat": 4,
  "nbformat_minor": 0,
  "metadata": {
    "colab": {
      "provenance": []
    },
    "kernelspec": {
      "name": "python3",
      "display_name": "Python 3"
    },
    "language_info": {
      "name": "python"
    }
  },
  "cells": [
    {
      "cell_type": "markdown",
      "source": [
        "Problem 1: Bank Account Create a class representing a bank account with attributes like account number, account holder name, and balance. Implement methods to deposit and withdraw money from the account."
      ],
      "metadata": {
        "id": "ULI6qlRUeXd9"
      }
    },
    {
      "cell_type": "code",
      "execution_count": null,
      "metadata": {
        "colab": {
          "base_uri": "https://localhost:8080/"
        },
        "id": "1qVm3huQeAAO",
        "outputId": "5208ce4a-0871-4a46-e8e1-bb08b50c0984"
      },
      "outputs": [
        {
          "output_type": "stream",
          "name": "stdout",
          "text": [
            "Your account balance is rs.10000\n",
            "enter the amount of withdrawl:500\n",
            "The available balance in your account is rs.9500.0\n",
            "Enter the amount of deposition:1000\n",
            "The available balance in your account is rs.10500.0\n"
          ]
        }
      ],
      "source": [
        "class Bank_account():\n",
        "\n",
        "  def account_num(self):\n",
        "    x=int(input(\"Enter your account number:\"))\n",
        "    print(\"This is your present account here\",x)\n",
        "\n",
        "  def account_holder_name(self):\n",
        "    y=input(\"Account holder name\")\n",
        "    print(f\"The account belongs to Ms.{y}\")\n",
        "\n",
        "  def balance(self):\n",
        "    z=10000\n",
        "    print(f\"Your account balance is rs.{z}\")\n",
        "    a = float(input((\"enter the amount of withdrawl:\")))\n",
        "    print(f\"The available balance in your account is rs.{z-a}\")\n",
        "    b= float(input(\"Enter the amount of deposition:\"))\n",
        "    print(f\"The available balance in your account is rs.{(z-a)+b}\")\n",
        "\n",
        "\n",
        "\n",
        "sananda = Bank_account()\n",
        "#sananda.account_num()\n",
        "sananda.balance()"
      ]
    },
    {
      "cell_type": "code",
      "source": [
        "class Bank_account():\n",
        "\n",
        "   def __init__(self,account_num,account_holder_name):\n",
        "      self.account_num = account_num\n",
        "      self.account_holder_name = account_holder_name\n",
        "      self.balance = 10000\n",
        "\n",
        "   def withdraw(self,amount):\n",
        "      if amount > self.balance:\n",
        "        print(\"Insuffiecient Balance\")\n",
        "      else:\n",
        "        self.balance -= amount\n",
        "        print(f\"your withdraw amount rs{amount} and your available balanc is rs{self.balance}\")\n",
        "\n",
        "   def deposit(self,amount):\n",
        "      self.balance += amount\n",
        "      print(f\"your deposited amount rs {amount} and your total balance is rs{self.balance}\")\n",
        "\n",
        "sananda = Bank_account(\"12345\",\"Sananda\")\n",
        "\n",
        "sananda.withdraw(2000)\n",
        "sananda.deposit(4000)"
      ],
      "metadata": {
        "id": "MX6nDejGqoFh",
        "colab": {
          "base_uri": "https://localhost:8080/"
        },
        "outputId": "3d920f90-ffda-4a57-b142-ca7200be75f9"
      },
      "execution_count": null,
      "outputs": [
        {
          "output_type": "stream",
          "name": "stdout",
          "text": [
            "your withdraw amount rs2000 and your available balanc is rs8000\n",
            "your deposited amount rs 4000 and your total balance is rs12000\n"
          ]
        }
      ]
    },
    {
      "cell_type": "markdown",
      "source": [
        "Problem 2: Employee Management Create a class representing an employee with attributes like employee ID, name, and salary. Implement methods to calculate the yearly bonus and display employee details."
      ],
      "metadata": {
        "id": "LKsnZM6FfyNp"
      }
    },
    {
      "cell_type": "code",
      "source": [
        "class employee():\n",
        "\n",
        "    def __init__(self,emp_id,emp_name,emp_sal):\n",
        "      self.emp_id = emp_id\n",
        "      self.emp_name = emp_name\n",
        "      self.emp_sal = emp_sal\n",
        "      self.bonus = 0\n",
        "\n",
        "    def employee_bonus(self):\n",
        "      if self.emp_sal >= 25000:\n",
        "        self.bonus = 5000\n",
        "        #self.emp_sal += self.bonus\n",
        "        #print(\"Employee salary is\",self.emp_sal)\n",
        "      elif 25001 <= self.emp_sal <=30000:\n",
        "        self.bonus= 7000\n",
        "        #self.emp_sal += self.bonus\n",
        "        #print(\"Employee salary is\",self.emp_sal)\n",
        "      else:\n",
        "        self.bonus = 10000\n",
        "      self.emp_sal += self.bonus\n",
        "      print(f\"Salary of employee along with bonus becomes:\",self.emp_sal)\n",
        "\n",
        "    def employee_details(self):\n",
        "      print(\"Id:\",self.emp_id)\n",
        "      print(\"Name:\",self.emp_name)\n",
        "      print(\"salary:\",self.emp_sal)\n",
        "      #print(\"Bonus:\",self.bonus)\n",
        "\n",
        "employees = [employee(\"s-1\",\"Bhanu Prasad\",36000),\n",
        "            employee(\"s-2\",\"Chandrasekhar Das\",27000),\n",
        "            employee(\"s-3\",\"Surya Kumar\",30000)]\n",
        "\n",
        "for employee in employees:\n",
        "  employee.employee_details()\n",
        "  employee.employee_bonus()"
      ],
      "metadata": {
        "id": "vb7D11rffzYg",
        "colab": {
          "base_uri": "https://localhost:8080/"
        },
        "outputId": "c8c7c94c-4fd7-4b07-beb9-5389f08bda47"
      },
      "execution_count": null,
      "outputs": [
        {
          "output_type": "stream",
          "name": "stdout",
          "text": [
            "Id: s-1\n",
            "Name: Bhanu Prasad\n",
            "salary: 36000\n",
            "Salary of employee along with bonus becomes: 41000\n",
            "Id: s-2\n",
            "Name: Chandrasekhar Das\n",
            "salary: 27000\n",
            "Salary of employee along with bonus becomes: 32000\n",
            "Id: s-3\n",
            "Name: Surya Kumar\n",
            "salary: 30000\n",
            "Salary of employee along with bonus becomes: 35000\n"
          ]
        }
      ]
    },
    {
      "cell_type": "markdown",
      "source": [
        "Problem 3: Vehicle Rental Create a class representing a vehicle rental system. Implement methods to rent a vehicle, return a vehicle, and display available vehicles."
      ],
      "metadata": {
        "id": "IVybhIbHfz-C"
      }
    },
    {
      "cell_type": "code",
      "source": [
        "class VehicleRentalSystem:\n",
        "    def __init__(self):\n",
        "        # Initialize an empty dictionary to store rented vehicles\n",
        "        self.rented_vehicles = {}\n",
        "\n",
        "        # Initialize a list of available vehicles\n",
        "        self.available_vehicles = [\"Car\", \"Motorcycle\", \"Bicycle\", \"Scooter\"]\n",
        "\n",
        "    def rent_vehicle(self, customer_name, vehicle_type):\n",
        "        # Check if the requested vehicle type is available\n",
        "        if vehicle_type in self.available_vehicles:\n",
        "            # Remove the vehicle from available vehicles\n",
        "            self.available_vehicles.remove(vehicle_type)\n",
        "            # Rent the vehicle to the customer\n",
        "            self.rented_vehicles[customer_name] = vehicle_type\n",
        "            print(f\"{customer_name} has rented a {vehicle_type}.\")\n",
        "        else:\n",
        "            print(f\"Sorry, {vehicle_type} is not available for rent.\")\n",
        "\n",
        "    def return_vehicle(self, customer_name):\n",
        "        # Check if the customer has rented a vehicle\n",
        "        if customer_name in self.rented_vehicles:\n",
        "            # Get the rented vehicle type\n",
        "            vehicle_type = self.rented_vehicles[customer_name]\n",
        "            # Add the returned vehicle back to available vehicles\n",
        "            self.available_vehicles.append(vehicle_type)\n",
        "            # Remove the customer's rental record\n",
        "            del self.rented_vehicles[customer_name]\n",
        "            print(f\"{customer_name} has returned their {vehicle_type}.\")\n",
        "        else:\n",
        "            print(f\"{customer_name} has not rented any vehicle from us.\")\n",
        "\n",
        "    def display_available_vehicles(self):\n",
        "        print(\"Available vehicles for rent:\")\n",
        "        for vehicle in self.available_vehicles:\n",
        "            print(vehicle)\n",
        "\n",
        "# Create an instance of the VehicleRentalSystem\n",
        "rental_system = VehicleRentalSystem()\n",
        "\n",
        "# Example usage:\n",
        "rental_system.display_available_vehicles()\n",
        "rental_system.rent_vehicle(\"Alice\", \"Car\")\n",
        "rental_system.rent_vehicle(\"Bob\", \"Bicycle\")\n",
        "rental_system.display_available_vehicles()\n",
        "rental_system.return_vehicle(\"Alice\")\n",
        "rental_system.display_available_vehicles()\n"
      ],
      "metadata": {
        "id": "sdU5GBk_HLJn",
        "outputId": "099a51a0-d249-423e-bb59-22a5c7c4b505",
        "colab": {
          "base_uri": "https://localhost:8080/"
        }
      },
      "execution_count": null,
      "outputs": [
        {
          "output_type": "stream",
          "name": "stdout",
          "text": [
            "Available vehicles for rent:\n",
            "Car\n",
            "Motorcycle\n",
            "Bicycle\n",
            "Scooter\n",
            "Alice has rented a Car.\n",
            "Bob has rented a Bicycle.\n",
            "Available vehicles for rent:\n",
            "Motorcycle\n",
            "Scooter\n",
            "Alice has returned their Car.\n",
            "Available vehicles for rent:\n",
            "Motorcycle\n",
            "Scooter\n",
            "Car\n"
          ]
        }
      ]
    },
    {
      "cell_type": "markdown",
      "source": [
        "Problem 4: Library Catalog Create classes representing a library and a book. Implement methods to add books to the library, borrow books, and display available books."
      ],
      "metadata": {
        "id": "bhvd-0Cef4LM"
      }
    },
    {
      "cell_type": "code",
      "source": [
        "class Library:\n",
        "\n",
        "  def __init__(self,listofbooks):\n",
        "    self.availablebooks = listofbooks\n",
        "\n",
        "  def displayavailablebooks(self):\n",
        "    print(\"The books available in our library are as follows:\")\n",
        "    #print(\"A,B,C,D,E,F,G,H\")\n",
        "    for books in self.availablebooks:\n",
        "      print(books)\n",
        "\n",
        "  def lendbooks(self,requestedbook):\n",
        "    if requestedbook in self.availablebooks:\n",
        "      print(\"Your requested book has been borrowed\")\n",
        "      self.availablebooks.remove(requestedbook)\n",
        "    else:\n",
        "      print(\"Your requested book is currently not in our library\")\n",
        "\n",
        "  def addbook(self,returnedbook):\n",
        "    self.availablebooks.append(returnedbook)\n",
        "    print(\"Thank you for returning your borrowed book\")\n",
        "\n",
        "def main():\n",
        "  books_initial = [\"A\",\"B\",\"C\",\"D\"]\n",
        "  library = Library.books_initial\n",
        "\n",
        "  while True:\n",
        "    print(\"\\n Options\")\n",
        "    print(\"1.Display the available books\")\n",
        "    print(\"2.Borrow a book\")\n",
        "    print(\"3.Return a book\")\n",
        "    print(\"4.Exit\")\n",
        "    choice = int(input(\"Enter you choice:\"))\n",
        "\n",
        "    if choice == 1:\n",
        "      library.displayavailablebooks()\n",
        "    elif choice == 2:\n",
        "      borrowbooks = input(\"Enter the name of your book you want to borrow \")\n",
        "      library.lendbooks(borrowbooks)\n",
        "    elif choice == 3:\n",
        "      returnbooks = input(\"Enter the name of your book you want to return\")\n",
        "      library.addbook(returnbooks)\n",
        "    elif choice == 4:\n",
        "      print(\"Thankyou for using our library.\")\n",
        "      break\n",
        "    else:\n",
        "      print(\"Please choose a valid optoin\")\n",
        "\n",
        "if __name__ == \"__main()__\":\n",
        "  main()"
      ],
      "metadata": {
        "id": "cfla44mlf8dZ"
      },
      "execution_count": null,
      "outputs": []
    },
    {
      "cell_type": "code",
      "source": [
        "class Library:  # Capitalize the class name for consistency\n",
        "    def __init__(self, list_of_books):\n",
        "        self.available_books = list_of_books\n",
        "\n",
        "    def display_available_books(self):\n",
        "        print(\"The books available in our library are as follows:\")\n",
        "        for book in self.available_books:\n",
        "            print(book)\n",
        "\n",
        "    def lend_book(self, requested_book):\n",
        "        if requested_book in self.available_books:\n",
        "            print(\"Your requested book has been borrowed.\")\n",
        "            self.available_books.remove(requested_book)\n",
        "        else:\n",
        "            print(\"Your requested book is currently not in our library.\")\n",
        "\n",
        "    def add_book(self, returned_book):\n",
        "        self.available_books.append(returned_book)\n",
        "        print(\"Thank you for returning your borrowed book.\")\n",
        "\n",
        "def main():\n",
        "    books_initial = [\"A\", \"B\", \"C\", \"D\"]\n",
        "    library = Library(books_initial)  # Instantiate the Library class\n",
        "\n",
        "    while True:\n",
        "        print(\"\\nOptions:\")\n",
        "        print(\"1. Display the available books\")\n",
        "        print(\"2. Borrow a book\")\n",
        "        print(\"3. Return a book\")\n",
        "        print(\"4. Exit\")\n",
        "        choice = int(input(\"Enter your choice: \"))\n",
        "\n",
        "        if choice == 1:\n",
        "            library.display_available_books()\n",
        "        elif choice == 2:\n",
        "            borrow_book = input(\"Enter the name of the book you want to borrow: \")\n",
        "            library.lend_book(borrow_book)\n",
        "        elif choice == 3:\n",
        "            return_book = input(\"Enter the name of the book you want to return: \")\n",
        "            library.add_book(return_book)\n",
        "        elif choice == 4:\n",
        "            print(\"Thank you for using our library.\")\n",
        "            break\n",
        "        else:\n",
        "            print(\"Please choose a valid option.\")\n",
        "\n",
        "if __name__ == \"__main__\":\n",
        "    main()"
      ],
      "metadata": {
        "colab": {
          "base_uri": "https://localhost:8080/"
        },
        "id": "6s9zoYZYgAFw",
        "outputId": "3e41db26-2272-4d53-e01d-8c26b1ffd5c5"
      },
      "execution_count": null,
      "outputs": [
        {
          "output_type": "stream",
          "name": "stdout",
          "text": [
            "\n",
            "Options:\n",
            "1. Display the available books\n",
            "2. Borrow a book\n",
            "3. Return a book\n",
            "4. Exit\n",
            "Enter your choice: 3\n",
            "Enter the name of the book you want to return: V\n",
            "Thank you for returning your borrowed book.\n",
            "\n",
            "Options:\n",
            "1. Display the available books\n",
            "2. Borrow a book\n",
            "3. Return a book\n",
            "4. Exit\n",
            "Enter your choice: 1\n",
            "The books available in our library are as follows:\n",
            "A\n",
            "B\n",
            "C\n",
            "D\n",
            "V\n",
            "\n",
            "Options:\n",
            "1. Display the available books\n",
            "2. Borrow a book\n",
            "3. Return a book\n",
            "4. Exit\n",
            "Enter your choice: 4\n",
            "Thank you for using our library.\n"
          ]
        }
      ]
    },
    {
      "cell_type": "markdown",
      "source": [
        "Problem 5: Product Inventory Create classes representing a product and an inventory system. Implement methods to add products to the inventory, update product quantity, and display available products."
      ],
      "metadata": {
        "id": "BdeRCeOPf9LU"
      }
    },
    {
      "cell_type": "code",
      "source": [
        "class Product():\n",
        "\n",
        "    def __init__(self, list_of_products):\n",
        "        self.available_products = list_of_products\n",
        "\n",
        "    def display_products(self):\n",
        "        print(\"Here is list of the available products:\")\n",
        "        for product in self.available_products:\n",
        "          print(product)\n",
        "\n",
        "    def add_product(self,newproduct):\n",
        "        self.available_products.append(newproduct)\n",
        "        print(\"The new product is added to the list\")\n",
        "        print(\"The updated product list is:\",self.available_products)\n",
        "\n",
        "def main():\n",
        "    products_initial = [\"A\", \"B\", \"C\", \"D\"]\n",
        "    product = Product(products_initial)\n",
        "\n",
        "\n",
        "    while True:\n",
        "        print(\"\\nOptions:\")\n",
        "        print(\"1. Display the available products\")\n",
        "        print(\"2. product to add\")\n",
        "        print(\"3. Exit\")\n",
        "        choice = int(input(\"Enter your choice: \"))\n",
        "\n",
        "        if choice == 1:\n",
        "            product.display_products()\n",
        "        elif choice == 2:\n",
        "            addproduct = input(\"Enter the name of the product you want to add to the list: \")\n",
        "            product.add_product(addproduct)\n",
        "        elif choice == 3:\n",
        "            print(\"Thank you for using our inventory.\")\n",
        "            break\n",
        "        else:\n",
        "            print(\"Please choose a valid option.\")\n",
        "\n",
        "if __name__ == \"__main__\":\n",
        "    main()"
      ],
      "metadata": {
        "id": "Wn5fffUMgBd1",
        "colab": {
          "base_uri": "https://localhost:8080/"
        },
        "outputId": "b0758910-e3a5-4c4f-a394-abcd97b9cb9b"
      },
      "execution_count": null,
      "outputs": [
        {
          "output_type": "stream",
          "name": "stdout",
          "text": [
            "\n",
            "Options:\n",
            "1. Display the available products\n",
            "2. product to add\n",
            "3. Exit\n",
            "Enter your choice: 2\n",
            "Enter the name of the product you want to add to the list: E\n",
            "The new product is added to the list\n",
            "The updated product list is: ['A', 'B', 'C', 'D', 'E']\n",
            "\n",
            "Options:\n",
            "1. Display the available products\n",
            "2. product to add\n",
            "3. Exit\n",
            "Enter your choice: 3\n",
            "Thank you for using our inventory.\n"
          ]
        }
      ]
    },
    {
      "cell_type": "markdown",
      "source": [
        "Problem 6: Shape Calculation Create a class representing a shape with attributes like length, width, and height. Implement methods to calculate the area and perimeter of the shape."
      ],
      "metadata": {
        "id": "7bO9kAeRgCD9"
      }
    },
    {
      "cell_type": "code",
      "source": [
        "import math\n",
        "\n",
        "class Shape():\n",
        "\n",
        "    def calculate_area(self):\n",
        "      pass\n",
        "\n",
        "    def calculate_perimeter(self):\n",
        "      pass\n",
        "\n",
        "\n",
        "class Circle(Shape):\n",
        "    def __init__(self,radius):\n",
        "      self.radius = radius\n",
        "\n",
        "    def calculate_area(self):\n",
        "      return math.pi * self.radius**2\n",
        "\n",
        "    def calculate_perimeter(self):\n",
        "       return 2 * math.pi * self.radius\n",
        "\n",
        "class Rectangle(Shape):\n",
        "    def __init__(self,length,width):\n",
        "      self.length = length\n",
        "      self.width = width\n",
        "\n",
        "    def calculate_area(self):\n",
        "       return 2 * self.length * self.width\n",
        "\n",
        "    def calculate_perimeter(self):\n",
        "       return 2 * (self.length + self.width)\n",
        "\n",
        "\n",
        "class Triangle(Shape):\n",
        "    def __init__(self,base,height,side1,side2,side3):\n",
        "      self.base = base\n",
        "      self.height = height\n",
        "      self.side1 = side1\n",
        "      self.side2 = side2\n",
        "      self.side3 = side3\n",
        "\n",
        "    def calculate_area(self):\n",
        "       return 0.5 * self.base *self.height\n",
        "\n",
        "    def calculate_perimeter(self):\n",
        "       return self.side1 + self.side2 + self.side3\n",
        "\n",
        "r = 5\n",
        "circle = Circle(r)\n",
        "#circle_area = circle.calculate_area()\n",
        "print(circle.calculate_area())\n",
        "print(circle.calculate_perimeter())\n"
      ],
      "metadata": {
        "id": "uTJyCWcKgILd",
        "colab": {
          "base_uri": "https://localhost:8080/"
        },
        "outputId": "0312bc80-df4a-485b-ef72-0df7a5b170b3"
      },
      "execution_count": null,
      "outputs": [
        {
          "output_type": "stream",
          "name": "stdout",
          "text": [
            "78.53981633974483\n",
            "31.41592653589793\n"
          ]
        }
      ]
    },
    {
      "cell_type": "markdown",
      "source": [
        "Problem 7: Student Management Create a class representing a student with attributes like student ID, name, and grades. Implement methods to calculate the average grade and display student details."
      ],
      "metadata": {
        "id": "kXYkdWFwgI6b"
      }
    },
    {
      "cell_type": "code",
      "source": [
        "class student():\n",
        "\n"
      ],
      "metadata": {
        "id": "m7Zmn5VxgOMs"
      },
      "execution_count": null,
      "outputs": []
    },
    {
      "cell_type": "markdown",
      "source": [
        "Problem 8: Email Management Create a class representing an email with attributes like sender, recipient, and subject. Implement methods to send an email and display email details."
      ],
      "metadata": {
        "id": "5tCmPvShgO4a"
      }
    },
    {
      "cell_type": "code",
      "source": [],
      "metadata": {
        "id": "Vqk0CJ4MgVQp"
      },
      "execution_count": null,
      "outputs": []
    },
    {
      "cell_type": "markdown",
      "source": [
        "Problem 9: Social Media Profile Create a class representing a social media profile with attributes like username and posts. Implement methods to add posts, display posts, and search for posts by keyword."
      ],
      "metadata": {
        "id": "kbRUR4MUgV5r"
      }
    },
    {
      "cell_type": "code",
      "source": [],
      "metadata": {
        "id": "WAXpO4OdkbZP"
      },
      "execution_count": null,
      "outputs": []
    },
    {
      "cell_type": "markdown",
      "source": [
        "Problem 10: ToDo List Create a class representing a ToDo list with attributes like tasks and due dates. Implement methods to add tasks, mark tasks as completed, and display pending tasks.\n",
        "\n"
      ],
      "metadata": {
        "id": "yCCkgHu8kc-L"
      }
    },
    {
      "cell_type": "code",
      "source": [],
      "metadata": {
        "id": "U6cEJCTHkgCz"
      },
      "execution_count": null,
      "outputs": []
    }
  ]
}